{
 "cells": [
  {
   "cell_type": "code",
   "execution_count": 2,
   "id": "0521a2fe",
   "metadata": {},
   "outputs": [],
   "source": [
    "# Install Pandas"
   ]
  },
  {
   "cell_type": "code",
   "execution_count": 3,
   "id": "5eb9034c",
   "metadata": {},
   "outputs": [
    {
     "name": "stdout",
     "output_type": "stream",
     "text": [
      "Requirement already satisfied: pandas in /Applications/anaconda3/lib/python3.8/site-packages (1.2.4)\r\n",
      "Requirement already satisfied: python-dateutil>=2.7.3 in /Applications/anaconda3/lib/python3.8/site-packages (from pandas) (2.8.1)\r\n",
      "Requirement already satisfied: pytz>=2017.3 in /Applications/anaconda3/lib/python3.8/site-packages (from pandas) (2021.1)\r\n",
      "Requirement already satisfied: numpy>=1.16.5 in /Applications/anaconda3/lib/python3.8/site-packages (from pandas) (1.20.1)\r\n",
      "Requirement already satisfied: six>=1.5 in /Applications/anaconda3/lib/python3.8/site-packages (from python-dateutil>=2.7.3->pandas) (1.15.0)\r\n"
     ]
    }
   ],
   "source": [
    "!pip install pandas"
   ]
  },
  {
   "cell_type": "code",
   "execution_count": 30,
   "id": "dbc47beb",
   "metadata": {},
   "outputs": [],
   "source": [
    "import pandas as pd\n",
    "from datetime import datetime\n",
    "from datetime import date\n",
    "import numpy as np\n",
    "from sklearn.model_selection import train_test_split\n",
    "from sklearn.ensemble import RandomForestClassifier"
   ]
  },
  {
   "cell_type": "code",
   "execution_count": 2,
   "id": "1e5fb722",
   "metadata": {},
   "outputs": [
    {
     "data": {
      "text/plain": [
       "'1.2.4'"
      ]
     },
     "execution_count": 2,
     "metadata": {},
     "output_type": "execute_result"
    }
   ],
   "source": [
    "pd.__version__"
   ]
  },
  {
   "cell_type": "code",
   "execution_count": 31,
   "id": "d91c4a14",
   "metadata": {},
   "outputs": [],
   "source": [
    "df = pd.read_excel('Credit data report 1.xlsx')"
   ]
  },
  {
   "cell_type": "code",
   "execution_count": 32,
   "id": "f666ffa6",
   "metadata": {},
   "outputs": [
    {
     "data": {
      "text/html": [
       "<div>\n",
       "<style scoped>\n",
       "    .dataframe tbody tr th:only-of-type {\n",
       "        vertical-align: middle;\n",
       "    }\n",
       "\n",
       "    .dataframe tbody tr th {\n",
       "        vertical-align: top;\n",
       "    }\n",
       "\n",
       "    .dataframe thead th {\n",
       "        text-align: right;\n",
       "    }\n",
       "</style>\n",
       "<table border=\"1\" class=\"dataframe\">\n",
       "  <thead>\n",
       "    <tr style=\"text-align: right;\">\n",
       "      <th></th>\n",
       "      <th>Customer ID</th>\n",
       "      <th>First Name</th>\n",
       "      <th>Middle Name</th>\n",
       "      <th>Last Name</th>\n",
       "      <th>Date of Birth</th>\n",
       "      <th>Email</th>\n",
       "      <th>Employment Status</th>\n",
       "      <th>Home Phone</th>\n",
       "      <th>Address Line1</th>\n",
       "      <th>City</th>\n",
       "      <th>...</th>\n",
       "      <th>Eligible amount</th>\n",
       "      <th>FICO Score</th>\n",
       "      <th>Red Flag</th>\n",
       "      <th>Default in Last 7 days</th>\n",
       "      <th>Month1</th>\n",
       "      <th>Month2</th>\n",
       "      <th>Month3</th>\n",
       "      <th>Decision</th>\n",
       "      <th>Unnamed: 26</th>\n",
       "      <th>Unnamed: 27</th>\n",
       "    </tr>\n",
       "  </thead>\n",
       "  <tbody>\n",
       "    <tr>\n",
       "      <th>0</th>\n",
       "      <td>10003</td>\n",
       "      <td>Joshua</td>\n",
       "      <td>F.</td>\n",
       "      <td>James</td>\n",
       "      <td>09/25/1962</td>\n",
       "      <td>aliquam.enim.nec@Duisatlacus.org</td>\n",
       "      <td>Salaried</td>\n",
       "      <td>(325) 731-2326</td>\n",
       "      <td>P.O. Box 766, 5055 Nunc, Street</td>\n",
       "      <td>Bowling Green</td>\n",
       "      <td>...</td>\n",
       "      <td>321322.0</td>\n",
       "      <td>717</td>\n",
       "      <td>No</td>\n",
       "      <td>No</td>\n",
       "      <td>No</td>\n",
       "      <td>No</td>\n",
       "      <td>No</td>\n",
       "      <td>Fail</td>\n",
       "      <td>NaN</td>\n",
       "      <td>NaN</td>\n",
       "    </tr>\n",
       "    <tr>\n",
       "      <th>1</th>\n",
       "      <td>10028</td>\n",
       "      <td>Harper</td>\n",
       "      <td>N.</td>\n",
       "      <td>Whitaker</td>\n",
       "      <td>03/28/1972</td>\n",
       "      <td>porttitor.tellus@faucibusutnulla.ca</td>\n",
       "      <td>Salaried</td>\n",
       "      <td>(424) 834-0240</td>\n",
       "      <td>Ap #119-264 Vulputate, Street</td>\n",
       "      <td>Great Falls</td>\n",
       "      <td>...</td>\n",
       "      <td>505623.0</td>\n",
       "      <td>788</td>\n",
       "      <td>No</td>\n",
       "      <td>No</td>\n",
       "      <td>No</td>\n",
       "      <td>No</td>\n",
       "      <td>No</td>\n",
       "      <td>Pass</td>\n",
       "      <td>NaN</td>\n",
       "      <td>NaN</td>\n",
       "    </tr>\n",
       "    <tr>\n",
       "      <th>2</th>\n",
       "      <td>10031</td>\n",
       "      <td>Elmo</td>\n",
       "      <td>D.</td>\n",
       "      <td>Marsh</td>\n",
       "      <td>02/01/1990</td>\n",
       "      <td>augue@interdum.edu</td>\n",
       "      <td>Salaried</td>\n",
       "      <td>(893) 273-2802</td>\n",
       "      <td>P.O. Box 480, 9768 Mollis Rd.</td>\n",
       "      <td>Jacksonville</td>\n",
       "      <td>...</td>\n",
       "      <td>695617.0</td>\n",
       "      <td>758</td>\n",
       "      <td>No</td>\n",
       "      <td>No</td>\n",
       "      <td>No</td>\n",
       "      <td>No</td>\n",
       "      <td>No</td>\n",
       "      <td>Pass</td>\n",
       "      <td>NaN</td>\n",
       "      <td>NaN</td>\n",
       "    </tr>\n",
       "    <tr>\n",
       "      <th>3</th>\n",
       "      <td>10073</td>\n",
       "      <td>Ginger</td>\n",
       "      <td>X.</td>\n",
       "      <td>Whitney</td>\n",
       "      <td>12/29/1966</td>\n",
       "      <td>ipsum.dolor@ornarefacilisis.edu</td>\n",
       "      <td>Salaried</td>\n",
       "      <td>(831) 975-5051</td>\n",
       "      <td>P.O. Box 369, 885 Lectus Road</td>\n",
       "      <td>Ketchikan</td>\n",
       "      <td>...</td>\n",
       "      <td>221265.0</td>\n",
       "      <td>702</td>\n",
       "      <td>No</td>\n",
       "      <td>No</td>\n",
       "      <td>No</td>\n",
       "      <td>No</td>\n",
       "      <td>No</td>\n",
       "      <td>Fail</td>\n",
       "      <td>NaN</td>\n",
       "      <td>NaN</td>\n",
       "    </tr>\n",
       "    <tr>\n",
       "      <th>4</th>\n",
       "      <td>10026</td>\n",
       "      <td>Dante</td>\n",
       "      <td>S.</td>\n",
       "      <td>Sanders</td>\n",
       "      <td>06/10/1965</td>\n",
       "      <td>ultrices.posuere.cubilia@vulputateduinec.org</td>\n",
       "      <td>Salaried</td>\n",
       "      <td>(367) 840-8014</td>\n",
       "      <td>809-1813 Posuere Avenue</td>\n",
       "      <td>Las Vegas</td>\n",
       "      <td>...</td>\n",
       "      <td>217468.0</td>\n",
       "      <td>778</td>\n",
       "      <td>No</td>\n",
       "      <td>No</td>\n",
       "      <td>No</td>\n",
       "      <td>No</td>\n",
       "      <td>No</td>\n",
       "      <td>Pass</td>\n",
       "      <td>NaN</td>\n",
       "      <td>NaN</td>\n",
       "    </tr>\n",
       "    <tr>\n",
       "      <th>...</th>\n",
       "      <td>...</td>\n",
       "      <td>...</td>\n",
       "      <td>...</td>\n",
       "      <td>...</td>\n",
       "      <td>...</td>\n",
       "      <td>...</td>\n",
       "      <td>...</td>\n",
       "      <td>...</td>\n",
       "      <td>...</td>\n",
       "      <td>...</td>\n",
       "      <td>...</td>\n",
       "      <td>...</td>\n",
       "      <td>...</td>\n",
       "      <td>...</td>\n",
       "      <td>...</td>\n",
       "      <td>...</td>\n",
       "      <td>...</td>\n",
       "      <td>...</td>\n",
       "      <td>...</td>\n",
       "      <td>...</td>\n",
       "      <td>...</td>\n",
       "    </tr>\n",
       "    <tr>\n",
       "      <th>495</th>\n",
       "      <td>10574</td>\n",
       "      <td>Duncan</td>\n",
       "      <td>R.</td>\n",
       "      <td>Hill</td>\n",
       "      <td>06/16/1991</td>\n",
       "      <td>Vivamus@quam.edu</td>\n",
       "      <td>Salaried</td>\n",
       "      <td>(236) 788-0859</td>\n",
       "      <td>P.O. Box 442, 7383 In Street</td>\n",
       "      <td>Kenosha</td>\n",
       "      <td>...</td>\n",
       "      <td>961551.0</td>\n",
       "      <td>690</td>\n",
       "      <td>No</td>\n",
       "      <td>Yes</td>\n",
       "      <td>Yes</td>\n",
       "      <td>Yes</td>\n",
       "      <td>Yes</td>\n",
       "      <td>Fail</td>\n",
       "      <td>NaN</td>\n",
       "      <td>NaN</td>\n",
       "    </tr>\n",
       "    <tr>\n",
       "      <th>496</th>\n",
       "      <td>10584</td>\n",
       "      <td>Sonya</td>\n",
       "      <td>Y.</td>\n",
       "      <td>Henry</td>\n",
       "      <td>08/20/1969</td>\n",
       "      <td>vel.sapien@magnanec.com</td>\n",
       "      <td>Salaried</td>\n",
       "      <td>(813) 461-5562</td>\n",
       "      <td>P.O. Box 849, 8003 Facilisis Street</td>\n",
       "      <td>Minneapolis</td>\n",
       "      <td>...</td>\n",
       "      <td>1400200.0</td>\n",
       "      <td>649</td>\n",
       "      <td>No</td>\n",
       "      <td>Yes</td>\n",
       "      <td>Yes</td>\n",
       "      <td>Yes</td>\n",
       "      <td>Yes</td>\n",
       "      <td>Fail</td>\n",
       "      <td>NaN</td>\n",
       "      <td>NaN</td>\n",
       "    </tr>\n",
       "    <tr>\n",
       "      <th>497</th>\n",
       "      <td>10595</td>\n",
       "      <td>Tasha</td>\n",
       "      <td>C.</td>\n",
       "      <td>Carson</td>\n",
       "      <td>02/04/1969</td>\n",
       "      <td>Duis@arcu.org</td>\n",
       "      <td>Salaried</td>\n",
       "      <td>(382) 177-6841</td>\n",
       "      <td>3531 Sed Street</td>\n",
       "      <td>Norman</td>\n",
       "      <td>...</td>\n",
       "      <td>771484.0</td>\n",
       "      <td>658</td>\n",
       "      <td>No</td>\n",
       "      <td>Yes</td>\n",
       "      <td>Yes</td>\n",
       "      <td>Yes</td>\n",
       "      <td>Yes</td>\n",
       "      <td>Fail</td>\n",
       "      <td>NaN</td>\n",
       "      <td>NaN</td>\n",
       "    </tr>\n",
       "    <tr>\n",
       "      <th>498</th>\n",
       "      <td>10554</td>\n",
       "      <td>Allegra</td>\n",
       "      <td>P.</td>\n",
       "      <td>Vaughn</td>\n",
       "      <td>02/13/1987</td>\n",
       "      <td>odio.Etiam@Etiam.edu</td>\n",
       "      <td>Salaried</td>\n",
       "      <td>(167) 162-1216</td>\n",
       "      <td>3545 Quam Rd.</td>\n",
       "      <td>Frankfort</td>\n",
       "      <td>...</td>\n",
       "      <td>1014994.0</td>\n",
       "      <td>654</td>\n",
       "      <td>Yes</td>\n",
       "      <td>Yes</td>\n",
       "      <td>Yes</td>\n",
       "      <td>Yes</td>\n",
       "      <td>Yes</td>\n",
       "      <td>Fail</td>\n",
       "      <td>NaN</td>\n",
       "      <td>NaN</td>\n",
       "    </tr>\n",
       "    <tr>\n",
       "      <th>499</th>\n",
       "      <td>10586</td>\n",
       "      <td>Jared</td>\n",
       "      <td>Q.</td>\n",
       "      <td>Rodgers</td>\n",
       "      <td>07/29/1978</td>\n",
       "      <td>Proin.nisl.sem@mus.co.uk</td>\n",
       "      <td>Salaried</td>\n",
       "      <td>(120) 462-6101</td>\n",
       "      <td>P.O. Box 919, 7066 Elit. Rd.</td>\n",
       "      <td>Kansas City</td>\n",
       "      <td>...</td>\n",
       "      <td>1117664.0</td>\n",
       "      <td>744</td>\n",
       "      <td>Yes</td>\n",
       "      <td>Yes</td>\n",
       "      <td>Yes</td>\n",
       "      <td>Yes</td>\n",
       "      <td>Yes</td>\n",
       "      <td>Fail</td>\n",
       "      <td>NaN</td>\n",
       "      <td>NaN</td>\n",
       "    </tr>\n",
       "  </tbody>\n",
       "</table>\n",
       "<p>500 rows × 28 columns</p>\n",
       "</div>"
      ],
      "text/plain": [
       "     Customer ID First Name Middle Name Last Name Date of Birth  \\\n",
       "0          10003     Joshua          F.     James    09/25/1962   \n",
       "1          10028     Harper          N.  Whitaker    03/28/1972   \n",
       "2          10031       Elmo          D.     Marsh    02/01/1990   \n",
       "3          10073     Ginger          X.   Whitney    12/29/1966   \n",
       "4          10026      Dante          S.   Sanders    06/10/1965   \n",
       "..           ...        ...         ...       ...           ...   \n",
       "495        10574     Duncan          R.      Hill    06/16/1991   \n",
       "496        10584      Sonya          Y.     Henry    08/20/1969   \n",
       "497        10595      Tasha          C.    Carson    02/04/1969   \n",
       "498        10554    Allegra          P.    Vaughn    02/13/1987   \n",
       "499        10586      Jared          Q.   Rodgers    07/29/1978   \n",
       "\n",
       "                                            Email Employment Status  \\\n",
       "0                aliquam.enim.nec@Duisatlacus.org          Salaried   \n",
       "1             porttitor.tellus@faucibusutnulla.ca          Salaried   \n",
       "2                              augue@interdum.edu          Salaried   \n",
       "3                 ipsum.dolor@ornarefacilisis.edu          Salaried   \n",
       "4    ultrices.posuere.cubilia@vulputateduinec.org          Salaried   \n",
       "..                                            ...               ...   \n",
       "495                              Vivamus@quam.edu          Salaried   \n",
       "496                       vel.sapien@magnanec.com          Salaried   \n",
       "497                                 Duis@arcu.org          Salaried   \n",
       "498                          odio.Etiam@Etiam.edu          Salaried   \n",
       "499                      Proin.nisl.sem@mus.co.uk          Salaried   \n",
       "\n",
       "         Home Phone                        Address Line1           City  ...  \\\n",
       "0    (325) 731-2326      P.O. Box 766, 5055 Nunc, Street  Bowling Green  ...   \n",
       "1    (424) 834-0240        Ap #119-264 Vulputate, Street    Great Falls  ...   \n",
       "2    (893) 273-2802        P.O. Box 480, 9768 Mollis Rd.   Jacksonville  ...   \n",
       "3    (831) 975-5051        P.O. Box 369, 885 Lectus Road      Ketchikan  ...   \n",
       "4    (367) 840-8014              809-1813 Posuere Avenue      Las Vegas  ...   \n",
       "..              ...                                  ...            ...  ...   \n",
       "495  (236) 788-0859         P.O. Box 442, 7383 In Street        Kenosha  ...   \n",
       "496  (813) 461-5562  P.O. Box 849, 8003 Facilisis Street    Minneapolis  ...   \n",
       "497  (382) 177-6841                      3531 Sed Street         Norman  ...   \n",
       "498  (167) 162-1216                        3545 Quam Rd.      Frankfort  ...   \n",
       "499  (120) 462-6101         P.O. Box 919, 7066 Elit. Rd.    Kansas City  ...   \n",
       "\n",
       "    Eligible amount  FICO Score  Red Flag  Default in Last 7 days  Month1  \\\n",
       "0          321322.0         717        No                      No      No   \n",
       "1          505623.0         788        No                      No      No   \n",
       "2          695617.0         758        No                      No      No   \n",
       "3          221265.0         702        No                      No      No   \n",
       "4          217468.0         778        No                      No      No   \n",
       "..              ...         ...       ...                     ...     ...   \n",
       "495        961551.0         690        No                     Yes     Yes   \n",
       "496       1400200.0         649        No                     Yes     Yes   \n",
       "497        771484.0         658        No                     Yes     Yes   \n",
       "498       1014994.0         654       Yes                     Yes     Yes   \n",
       "499       1117664.0         744       Yes                     Yes     Yes   \n",
       "\n",
       "     Month2  Month3 Decision  Unnamed: 26  Unnamed: 27  \n",
       "0        No      No     Fail          NaN          NaN  \n",
       "1        No      No     Pass          NaN          NaN  \n",
       "2        No      No     Pass          NaN          NaN  \n",
       "3        No      No     Fail          NaN          NaN  \n",
       "4        No      No     Pass          NaN          NaN  \n",
       "..      ...     ...      ...          ...          ...  \n",
       "495     Yes     Yes     Fail          NaN          NaN  \n",
       "496     Yes     Yes     Fail          NaN          NaN  \n",
       "497     Yes     Yes     Fail          NaN          NaN  \n",
       "498     Yes     Yes     Fail          NaN          NaN  \n",
       "499     Yes     Yes     Fail          NaN          NaN  \n",
       "\n",
       "[500 rows x 28 columns]"
      ]
     },
     "execution_count": 32,
     "metadata": {},
     "output_type": "execute_result"
    }
   ],
   "source": [
    "df"
   ]
  },
  {
   "cell_type": "markdown",
   "id": "3b218ea3",
   "metadata": {},
   "source": [
    "Remove unnecessary columns"
   ]
  },
  {
   "cell_type": "code",
   "execution_count": 33,
   "id": "403ed04b",
   "metadata": {},
   "outputs": [],
   "source": [
    "df.drop(['Customer ID','First Name', 'Middle Name', 'Last Name', 'Email', 'Home Phone', 'Address Line1','Zip','Unnamed: 26','Unnamed: 27','City','State','Monthly Income','Monthly Expenses','Monthly Debts','Total Outstanding','Eligible amount'], axis = 1,inplace = True)"
   ]
  },
  {
   "cell_type": "markdown",
   "id": "4f62fdf3",
   "metadata": {},
   "source": [
    "Removing 'Employment Status' column as it has only 'Salaried' value"
   ]
  },
  {
   "cell_type": "code",
   "execution_count": 34,
   "id": "80b28d25",
   "metadata": {},
   "outputs": [],
   "source": [
    "df.drop(['Employment Status'], axis = 1,inplace = True)"
   ]
  },
  {
   "cell_type": "markdown",
   "id": "0210416a",
   "metadata": {},
   "source": [
    "Add a new column 'Age' from Date of Birth column and later drop the Date of Birth column"
   ]
  },
  {
   "cell_type": "code",
   "execution_count": 35,
   "id": "b1ae0cb7",
   "metadata": {},
   "outputs": [],
   "source": [
    "def calculate_age(born):\n",
    "    born = datetime.strptime(born, \"%m/%d/%Y\").date()\n",
    "    today = date.today()\n",
    "    return today.year - born.year - ((today.month, today.day) < (born.month, born.day))\n",
    "\n",
    "df['Age'] = df['Date of Birth'].apply(calculate_age)\n",
    "df.drop(['Date of Birth'], axis = 1,inplace = True)"
   ]
  },
  {
   "cell_type": "markdown",
   "id": "d19621e5",
   "metadata": {},
   "source": [
    "Replace categorical values"
   ]
  },
  {
   "cell_type": "code",
   "execution_count": 36,
   "id": "d0e79dfe",
   "metadata": {},
   "outputs": [],
   "source": [
    "df['Red Flag'].replace(('Yes', 'No'), (1, 0), inplace=True)\n",
    "df['Default in Last 7 days'].replace(('Yes', 'No'), (1, 0), inplace=True)\n",
    "df['Month1'].replace(('Yes', 'No'), (1, 0), inplace=True)\n",
    "df['Month2'].replace(('Yes', 'No'), (1, 0), inplace=True)\n",
    "df['Month3'].replace(('Yes', 'No'), (1, 0), inplace=True)\n",
    "df['Decision'].replace(('Pass', 'Fail'), (1, 0), inplace=True)"
   ]
  },
  {
   "cell_type": "code",
   "execution_count": 37,
   "id": "8e001ef0",
   "metadata": {},
   "outputs": [
    {
     "data": {
      "text/html": [
       "<div>\n",
       "<style scoped>\n",
       "    .dataframe tbody tr th:only-of-type {\n",
       "        vertical-align: middle;\n",
       "    }\n",
       "\n",
       "    .dataframe tbody tr th {\n",
       "        vertical-align: top;\n",
       "    }\n",
       "\n",
       "    .dataframe thead th {\n",
       "        text-align: right;\n",
       "    }\n",
       "</style>\n",
       "<table border=\"1\" class=\"dataframe\">\n",
       "  <thead>\n",
       "    <tr style=\"text-align: right;\">\n",
       "      <th></th>\n",
       "      <th>DTI Ratio</th>\n",
       "      <th>Default eligible amount</th>\n",
       "      <th>FICO Score</th>\n",
       "      <th>Red Flag</th>\n",
       "      <th>Default in Last 7 days</th>\n",
       "      <th>Month1</th>\n",
       "      <th>Month2</th>\n",
       "      <th>Month3</th>\n",
       "      <th>Decision</th>\n",
       "      <th>Age</th>\n",
       "    </tr>\n",
       "  </thead>\n",
       "  <tbody>\n",
       "    <tr>\n",
       "      <th>0</th>\n",
       "      <td>0.249146</td>\n",
       "      <td>351120</td>\n",
       "      <td>717</td>\n",
       "      <td>0</td>\n",
       "      <td>0</td>\n",
       "      <td>0</td>\n",
       "      <td>0</td>\n",
       "      <td>0</td>\n",
       "      <td>0</td>\n",
       "      <td>58</td>\n",
       "    </tr>\n",
       "    <tr>\n",
       "      <th>1</th>\n",
       "      <td>0.133701</td>\n",
       "      <td>554220</td>\n",
       "      <td>788</td>\n",
       "      <td>0</td>\n",
       "      <td>0</td>\n",
       "      <td>0</td>\n",
       "      <td>0</td>\n",
       "      <td>0</td>\n",
       "      <td>1</td>\n",
       "      <td>49</td>\n",
       "    </tr>\n",
       "    <tr>\n",
       "      <th>2</th>\n",
       "      <td>0.134533</td>\n",
       "      <td>765090</td>\n",
       "      <td>758</td>\n",
       "      <td>0</td>\n",
       "      <td>0</td>\n",
       "      <td>0</td>\n",
       "      <td>0</td>\n",
       "      <td>0</td>\n",
       "      <td>1</td>\n",
       "      <td>31</td>\n",
       "    </tr>\n",
       "    <tr>\n",
       "      <th>3</th>\n",
       "      <td>0.965269</td>\n",
       "      <td>270360</td>\n",
       "      <td>702</td>\n",
       "      <td>0</td>\n",
       "      <td>0</td>\n",
       "      <td>0</td>\n",
       "      <td>0</td>\n",
       "      <td>0</td>\n",
       "      <td>0</td>\n",
       "      <td>54</td>\n",
       "    </tr>\n",
       "    <tr>\n",
       "      <th>4</th>\n",
       "      <td>0.172975</td>\n",
       "      <td>287730</td>\n",
       "      <td>778</td>\n",
       "      <td>0</td>\n",
       "      <td>0</td>\n",
       "      <td>0</td>\n",
       "      <td>0</td>\n",
       "      <td>0</td>\n",
       "      <td>1</td>\n",
       "      <td>56</td>\n",
       "    </tr>\n",
       "    <tr>\n",
       "      <th>...</th>\n",
       "      <td>...</td>\n",
       "      <td>...</td>\n",
       "      <td>...</td>\n",
       "      <td>...</td>\n",
       "      <td>...</td>\n",
       "      <td>...</td>\n",
       "      <td>...</td>\n",
       "      <td>...</td>\n",
       "      <td>...</td>\n",
       "      <td>...</td>\n",
       "    </tr>\n",
       "    <tr>\n",
       "      <th>495</th>\n",
       "      <td>0.317712</td>\n",
       "      <td>989670</td>\n",
       "      <td>690</td>\n",
       "      <td>0</td>\n",
       "      <td>1</td>\n",
       "      <td>1</td>\n",
       "      <td>1</td>\n",
       "      <td>1</td>\n",
       "      <td>0</td>\n",
       "      <td>30</td>\n",
       "    </tr>\n",
       "    <tr>\n",
       "      <th>496</th>\n",
       "      <td>0.232335</td>\n",
       "      <td>1426950</td>\n",
       "      <td>649</td>\n",
       "      <td>0</td>\n",
       "      <td>1</td>\n",
       "      <td>1</td>\n",
       "      <td>1</td>\n",
       "      <td>1</td>\n",
       "      <td>0</td>\n",
       "      <td>52</td>\n",
       "    </tr>\n",
       "    <tr>\n",
       "      <th>497</th>\n",
       "      <td>0.410896</td>\n",
       "      <td>835320</td>\n",
       "      <td>658</td>\n",
       "      <td>0</td>\n",
       "      <td>1</td>\n",
       "      <td>1</td>\n",
       "      <td>1</td>\n",
       "      <td>1</td>\n",
       "      <td>0</td>\n",
       "      <td>52</td>\n",
       "    </tr>\n",
       "    <tr>\n",
       "      <th>498</th>\n",
       "      <td>0.392642</td>\n",
       "      <td>1065780</td>\n",
       "      <td>654</td>\n",
       "      <td>1</td>\n",
       "      <td>1</td>\n",
       "      <td>1</td>\n",
       "      <td>1</td>\n",
       "      <td>1</td>\n",
       "      <td>0</td>\n",
       "      <td>34</td>\n",
       "    </tr>\n",
       "    <tr>\n",
       "      <th>499</th>\n",
       "      <td>0.247633</td>\n",
       "      <td>1178760</td>\n",
       "      <td>744</td>\n",
       "      <td>1</td>\n",
       "      <td>1</td>\n",
       "      <td>1</td>\n",
       "      <td>1</td>\n",
       "      <td>1</td>\n",
       "      <td>0</td>\n",
       "      <td>43</td>\n",
       "    </tr>\n",
       "  </tbody>\n",
       "</table>\n",
       "<p>500 rows × 10 columns</p>\n",
       "</div>"
      ],
      "text/plain": [
       "     DTI Ratio  Default eligible amount  FICO Score  Red Flag  \\\n",
       "0     0.249146                   351120         717         0   \n",
       "1     0.133701                   554220         788         0   \n",
       "2     0.134533                   765090         758         0   \n",
       "3     0.965269                   270360         702         0   \n",
       "4     0.172975                   287730         778         0   \n",
       "..         ...                      ...         ...       ...   \n",
       "495   0.317712                   989670         690         0   \n",
       "496   0.232335                  1426950         649         0   \n",
       "497   0.410896                   835320         658         0   \n",
       "498   0.392642                  1065780         654         1   \n",
       "499   0.247633                  1178760         744         1   \n",
       "\n",
       "     Default in Last 7 days  Month1  Month2  Month3  Decision  Age  \n",
       "0                         0       0       0       0         0   58  \n",
       "1                         0       0       0       0         1   49  \n",
       "2                         0       0       0       0         1   31  \n",
       "3                         0       0       0       0         0   54  \n",
       "4                         0       0       0       0         1   56  \n",
       "..                      ...     ...     ...     ...       ...  ...  \n",
       "495                       1       1       1       1         0   30  \n",
       "496                       1       1       1       1         0   52  \n",
       "497                       1       1       1       1         0   52  \n",
       "498                       1       1       1       1         0   34  \n",
       "499                       1       1       1       1         0   43  \n",
       "\n",
       "[500 rows x 10 columns]"
      ]
     },
     "execution_count": 37,
     "metadata": {},
     "output_type": "execute_result"
    }
   ],
   "source": [
    "df"
   ]
  },
  {
   "cell_type": "markdown",
   "id": "6c3b413f",
   "metadata": {},
   "source": [
    "Remove 'Decision' field from the dataset "
   ]
  },
  {
   "cell_type": "code",
   "execution_count": 38,
   "id": "5f25f463",
   "metadata": {},
   "outputs": [],
   "source": [
    "decision_df = df['Decision']\n",
    "df.drop(['Decision'], axis = 1,inplace = True)"
   ]
  },
  {
   "cell_type": "code",
   "execution_count": 39,
   "id": "1e45539e",
   "metadata": {},
   "outputs": [],
   "source": [
    "#Splitting the training and test sets \n",
    "\n",
    "X = df\n",
    "y = decision_df\n",
    "\n",
    "X_train, X_test, y_train, y_test = train_test_split(X,y,test_size=0.3,random_state=27)"
   ]
  },
  {
   "cell_type": "code",
   "execution_count": 40,
   "id": "066a05aa",
   "metadata": {},
   "outputs": [
    {
     "data": {
      "text/plain": [
       "(150, 9)"
      ]
     },
     "execution_count": 40,
     "metadata": {},
     "output_type": "execute_result"
    }
   ],
   "source": [
    "X_test.shape"
   ]
  },
  {
   "cell_type": "code",
   "execution_count": null,
   "id": "e574da88",
   "metadata": {},
   "outputs": [],
   "source": []
  },
  {
   "cell_type": "code",
   "execution_count": 42,
   "id": "323e4216",
   "metadata": {},
   "outputs": [],
   "source": [
    "#Feature Scaling"
   ]
  },
  {
   "cell_type": "code",
   "execution_count": 41,
   "id": "5d39ba3f",
   "metadata": {},
   "outputs": [],
   "source": [
    "from sklearn.preprocessing import StandardScaler\n",
    "\n",
    "# copy of datasets\n",
    "X_train_stand = X_train.copy()\n",
    "X_test_stand = X_test.copy()\n",
    "\n",
    "# numerical features\n",
    "num_cols = ['DTI Ratio','Default eligible amount','FICO Score']\n",
    "\n",
    "# apply standardization on numerical features\n",
    "for i in num_cols:\n",
    "    \n",
    "    # fit on training data column\n",
    "    scale = StandardScaler().fit(X_train_stand[[i]])\n",
    "    \n",
    "    # transform the training data column\n",
    "    X_train_stand[i] = scale.transform(X_train_stand[[i]])\n",
    "    \n",
    "    # transform the testing data column\n",
    "    X_test_stand[i] = scale.transform(X_test_stand[[i]])"
   ]
  },
  {
   "cell_type": "code",
   "execution_count": 43,
   "id": "f5034616",
   "metadata": {},
   "outputs": [
    {
     "data": {
      "text/plain": [
       "(350, 9)"
      ]
     },
     "execution_count": 43,
     "metadata": {},
     "output_type": "execute_result"
    }
   ],
   "source": [
    "X_train_stand.shape"
   ]
  },
  {
   "cell_type": "code",
   "execution_count": 44,
   "id": "4fd52e91",
   "metadata": {},
   "outputs": [
    {
     "data": {
      "text/html": [
       "<div>\n",
       "<style scoped>\n",
       "    .dataframe tbody tr th:only-of-type {\n",
       "        vertical-align: middle;\n",
       "    }\n",
       "\n",
       "    .dataframe tbody tr th {\n",
       "        vertical-align: top;\n",
       "    }\n",
       "\n",
       "    .dataframe thead th {\n",
       "        text-align: right;\n",
       "    }\n",
       "</style>\n",
       "<table border=\"1\" class=\"dataframe\">\n",
       "  <thead>\n",
       "    <tr style=\"text-align: right;\">\n",
       "      <th></th>\n",
       "      <th>DTI Ratio</th>\n",
       "      <th>Default eligible amount</th>\n",
       "      <th>FICO Score</th>\n",
       "      <th>Red Flag</th>\n",
       "      <th>Default in Last 7 days</th>\n",
       "      <th>Month1</th>\n",
       "      <th>Month2</th>\n",
       "      <th>Month3</th>\n",
       "      <th>Age</th>\n",
       "    </tr>\n",
       "  </thead>\n",
       "  <tbody>\n",
       "    <tr>\n",
       "      <th>217</th>\n",
       "      <td>-0.493488</td>\n",
       "      <td>0.885961</td>\n",
       "      <td>-0.628441</td>\n",
       "      <td>0</td>\n",
       "      <td>0</td>\n",
       "      <td>0</td>\n",
       "      <td>0</td>\n",
       "      <td>0</td>\n",
       "      <td>45</td>\n",
       "    </tr>\n",
       "    <tr>\n",
       "      <th>220</th>\n",
       "      <td>0.564215</td>\n",
       "      <td>0.315318</td>\n",
       "      <td>-0.574345</td>\n",
       "      <td>0</td>\n",
       "      <td>0</td>\n",
       "      <td>0</td>\n",
       "      <td>0</td>\n",
       "      <td>0</td>\n",
       "      <td>57</td>\n",
       "    </tr>\n",
       "    <tr>\n",
       "      <th>483</th>\n",
       "      <td>-0.380253</td>\n",
       "      <td>1.079282</td>\n",
       "      <td>-2.143129</td>\n",
       "      <td>0</td>\n",
       "      <td>0</td>\n",
       "      <td>0</td>\n",
       "      <td>0</td>\n",
       "      <td>0</td>\n",
       "      <td>49</td>\n",
       "    </tr>\n",
       "    <tr>\n",
       "      <th>211</th>\n",
       "      <td>-0.325931</td>\n",
       "      <td>-0.501493</td>\n",
       "      <td>0.579703</td>\n",
       "      <td>0</td>\n",
       "      <td>0</td>\n",
       "      <td>0</td>\n",
       "      <td>0</td>\n",
       "      <td>0</td>\n",
       "      <td>39</td>\n",
       "    </tr>\n",
       "    <tr>\n",
       "      <th>63</th>\n",
       "      <td>-0.542405</td>\n",
       "      <td>-1.109320</td>\n",
       "      <td>-0.033385</td>\n",
       "      <td>0</td>\n",
       "      <td>0</td>\n",
       "      <td>0</td>\n",
       "      <td>0</td>\n",
       "      <td>0</td>\n",
       "      <td>34</td>\n",
       "    </tr>\n",
       "    <tr>\n",
       "      <th>...</th>\n",
       "      <td>...</td>\n",
       "      <td>...</td>\n",
       "      <td>...</td>\n",
       "      <td>...</td>\n",
       "      <td>...</td>\n",
       "      <td>...</td>\n",
       "      <td>...</td>\n",
       "      <td>...</td>\n",
       "      <td>...</td>\n",
       "    </tr>\n",
       "    <tr>\n",
       "      <th>312</th>\n",
       "      <td>3.903668</td>\n",
       "      <td>-0.845762</td>\n",
       "      <td>-0.736633</td>\n",
       "      <td>0</td>\n",
       "      <td>0</td>\n",
       "      <td>0</td>\n",
       "      <td>0</td>\n",
       "      <td>0</td>\n",
       "      <td>55</td>\n",
       "    </tr>\n",
       "    <tr>\n",
       "      <th>31</th>\n",
       "      <td>-0.608544</td>\n",
       "      <td>-0.151170</td>\n",
       "      <td>0.868215</td>\n",
       "      <td>0</td>\n",
       "      <td>0</td>\n",
       "      <td>0</td>\n",
       "      <td>0</td>\n",
       "      <td>0</td>\n",
       "      <td>36</td>\n",
       "    </tr>\n",
       "    <tr>\n",
       "      <th>328</th>\n",
       "      <td>3.029430</td>\n",
       "      <td>-0.801947</td>\n",
       "      <td>-0.916953</td>\n",
       "      <td>0</td>\n",
       "      <td>0</td>\n",
       "      <td>0</td>\n",
       "      <td>0</td>\n",
       "      <td>0</td>\n",
       "      <td>30</td>\n",
       "    </tr>\n",
       "    <tr>\n",
       "      <th>184</th>\n",
       "      <td>0.749668</td>\n",
       "      <td>-1.091449</td>\n",
       "      <td>0.327255</td>\n",
       "      <td>0</td>\n",
       "      <td>0</td>\n",
       "      <td>0</td>\n",
       "      <td>0</td>\n",
       "      <td>0</td>\n",
       "      <td>35</td>\n",
       "    </tr>\n",
       "    <tr>\n",
       "      <th>19</th>\n",
       "      <td>-0.477093</td>\n",
       "      <td>0.548802</td>\n",
       "      <td>0.958375</td>\n",
       "      <td>0</td>\n",
       "      <td>0</td>\n",
       "      <td>0</td>\n",
       "      <td>0</td>\n",
       "      <td>0</td>\n",
       "      <td>48</td>\n",
       "    </tr>\n",
       "  </tbody>\n",
       "</table>\n",
       "<p>350 rows × 9 columns</p>\n",
       "</div>"
      ],
      "text/plain": [
       "     DTI Ratio  Default eligible amount  FICO Score  Red Flag  \\\n",
       "217  -0.493488                 0.885961   -0.628441         0   \n",
       "220   0.564215                 0.315318   -0.574345         0   \n",
       "483  -0.380253                 1.079282   -2.143129         0   \n",
       "211  -0.325931                -0.501493    0.579703         0   \n",
       "63   -0.542405                -1.109320   -0.033385         0   \n",
       "..         ...                      ...         ...       ...   \n",
       "312   3.903668                -0.845762   -0.736633         0   \n",
       "31   -0.608544                -0.151170    0.868215         0   \n",
       "328   3.029430                -0.801947   -0.916953         0   \n",
       "184   0.749668                -1.091449    0.327255         0   \n",
       "19   -0.477093                 0.548802    0.958375         0   \n",
       "\n",
       "     Default in Last 7 days  Month1  Month2  Month3  Age  \n",
       "217                       0       0       0       0   45  \n",
       "220                       0       0       0       0   57  \n",
       "483                       0       0       0       0   49  \n",
       "211                       0       0       0       0   39  \n",
       "63                        0       0       0       0   34  \n",
       "..                      ...     ...     ...     ...  ...  \n",
       "312                       0       0       0       0   55  \n",
       "31                        0       0       0       0   36  \n",
       "328                       0       0       0       0   30  \n",
       "184                       0       0       0       0   35  \n",
       "19                        0       0       0       0   48  \n",
       "\n",
       "[350 rows x 9 columns]"
      ]
     },
     "execution_count": 44,
     "metadata": {},
     "output_type": "execute_result"
    }
   ],
   "source": [
    "X_train_stand"
   ]
  },
  {
   "cell_type": "code",
   "execution_count": 45,
   "id": "62ce2cd1",
   "metadata": {},
   "outputs": [
    {
     "data": {
      "text/plain": [
       "217    0\n",
       "220    0\n",
       "483    0\n",
       "211    0\n",
       "63     0\n",
       "      ..\n",
       "312    0\n",
       "31     1\n",
       "328    0\n",
       "184    0\n",
       "19     1\n",
       "Name: Decision, Length: 350, dtype: int64"
      ]
     },
     "execution_count": 45,
     "metadata": {},
     "output_type": "execute_result"
    }
   ],
   "source": [
    "y_train"
   ]
  },
  {
   "cell_type": "markdown",
   "id": "b465e7a2",
   "metadata": {},
   "source": [
    "# RANDOM FOREST"
   ]
  },
  {
   "cell_type": "code",
   "execution_count": 46,
   "id": "068252e8",
   "metadata": {
    "scrolled": true
   },
   "outputs": [
    {
     "data": {
      "text/plain": [
       "RandomForestClassifier(n_estimators=3, n_jobs=-1, random_state=0)"
      ]
     },
     "execution_count": 46,
     "metadata": {},
     "output_type": "execute_result"
    }
   ],
   "source": [
    "classifier = RandomForestClassifier(n_estimators = 3, random_state = 0, n_jobs = -1)\n",
    "classifier.fit(X_train_stand, y_train)"
   ]
  },
  {
   "cell_type": "code",
   "execution_count": 47,
   "id": "29d5de60",
   "metadata": {},
   "outputs": [],
   "source": [
    "y_pred = classifier.predict(X_test_stand)"
   ]
  },
  {
   "cell_type": "code",
   "execution_count": 48,
   "id": "324115e0",
   "metadata": {},
   "outputs": [
    {
     "data": {
      "text/plain": [
       "array([1, 0, 0, 1, 0, 1, 1, 0, 0, 0, 0, 0, 0, 0, 1, 0, 0, 0, 0, 1, 1, 0,\n",
       "       0, 0, 1, 0, 1, 1, 0, 1, 1, 1, 0, 0, 1, 0, 0, 0, 1, 0, 0, 0, 0, 0,\n",
       "       0, 0, 1, 1, 0, 1, 1, 0, 0, 0, 1, 0, 0, 1, 1, 0, 1, 0, 0, 0, 0, 1,\n",
       "       0, 0, 0, 1, 0, 1, 0, 0, 0, 0, 0, 0, 0, 0, 0, 0, 1, 1, 0, 0, 0, 0,\n",
       "       0, 0, 0, 0, 1, 0, 0, 0, 0, 0, 0, 0, 0, 0, 0, 0, 0, 1, 0, 1, 0, 0,\n",
       "       0, 1, 0, 1, 0, 0, 0, 0, 0, 1, 0, 0, 1, 0, 0, 1, 0, 0, 0, 0, 0, 0,\n",
       "       1, 0, 1, 1, 0, 0, 0, 0, 0, 0, 1, 0, 1, 0, 0, 1, 0, 0])"
      ]
     },
     "execution_count": 48,
     "metadata": {},
     "output_type": "execute_result"
    }
   ],
   "source": [
    "y_pred"
   ]
  },
  {
   "cell_type": "code",
   "execution_count": 49,
   "id": "af3f319e",
   "metadata": {},
   "outputs": [
    {
     "name": "stdout",
     "output_type": "stream",
     "text": [
      "1.0\n"
     ]
    }
   ],
   "source": [
    "from sklearn.metrics import accuracy_score\n",
    "acc = accuracy_score(y_test, y_pred)\n",
    "print(acc)"
   ]
  },
  {
   "cell_type": "code",
   "execution_count": 50,
   "id": "bb1a26a4",
   "metadata": {},
   "outputs": [
    {
     "name": "stdout",
     "output_type": "stream",
     "text": [
      "[[108   0]\n",
      " [  0  42]]\n"
     ]
    }
   ],
   "source": [
    "from sklearn.metrics import confusion_matrix\n",
    "cm = confusion_matrix(y_test, y_pred)\n",
    "print(cm)"
   ]
  },
  {
   "cell_type": "markdown",
   "id": "d12c119b",
   "metadata": {},
   "source": [
    "# Gradient Booster Algorithm"
   ]
  },
  {
   "cell_type": "code",
   "execution_count": 51,
   "id": "0944866a",
   "metadata": {},
   "outputs": [
    {
     "data": {
      "text/plain": [
       "GradientBoostingClassifier()"
      ]
     },
     "execution_count": 51,
     "metadata": {},
     "output_type": "execute_result"
    }
   ],
   "source": [
    "from sklearn.ensemble import GradientBoostingClassifier\n",
    "GB_classifier=GradientBoostingClassifier()\n",
    "GB_classifier.fit(X_train_stand,y_train)"
   ]
  },
  {
   "cell_type": "code",
   "execution_count": 52,
   "id": "3cb664d7",
   "metadata": {},
   "outputs": [],
   "source": [
    "y_pred = GB_classifier.predict(X_test_stand)"
   ]
  },
  {
   "cell_type": "code",
   "execution_count": 53,
   "id": "b190a113",
   "metadata": {},
   "outputs": [
    {
     "data": {
      "text/plain": [
       "array([1, 0, 0, 1, 0, 1, 1, 0, 0, 0, 0, 0, 0, 0, 1, 0, 0, 0, 0, 1, 1, 0,\n",
       "       0, 0, 1, 0, 1, 1, 0, 1, 1, 1, 0, 0, 1, 0, 0, 0, 1, 0, 0, 0, 0, 0,\n",
       "       0, 0, 0, 1, 0, 1, 1, 0, 0, 0, 1, 0, 0, 1, 1, 0, 1, 0, 0, 0, 0, 1,\n",
       "       0, 0, 0, 1, 0, 1, 0, 0, 0, 0, 0, 0, 0, 0, 0, 0, 1, 1, 0, 0, 0, 0,\n",
       "       0, 0, 0, 0, 1, 0, 0, 0, 0, 0, 0, 0, 0, 0, 0, 0, 0, 1, 0, 1, 0, 0,\n",
       "       0, 1, 0, 1, 0, 0, 0, 0, 0, 1, 0, 0, 1, 0, 0, 1, 0, 0, 0, 0, 0, 0,\n",
       "       1, 0, 1, 1, 0, 0, 0, 0, 0, 0, 1, 0, 1, 0, 0, 1, 0, 0])"
      ]
     },
     "execution_count": 53,
     "metadata": {},
     "output_type": "execute_result"
    }
   ],
   "source": [
    "y_pred"
   ]
  },
  {
   "cell_type": "code",
   "execution_count": 54,
   "id": "ca1fe523",
   "metadata": {},
   "outputs": [
    {
     "name": "stdout",
     "output_type": "stream",
     "text": [
      "0.9933333333333333\n"
     ]
    }
   ],
   "source": [
    "from sklearn.metrics import accuracy_score\n",
    "acc = accuracy_score(y_test, y_pred)\n",
    "print(acc)"
   ]
  },
  {
   "cell_type": "code",
   "execution_count": 55,
   "id": "ae0352d1",
   "metadata": {},
   "outputs": [
    {
     "name": "stdout",
     "output_type": "stream",
     "text": [
      "[[108   0]\n",
      " [  1  41]]\n"
     ]
    }
   ],
   "source": [
    "from sklearn.metrics import confusion_matrix\n",
    "cm = confusion_matrix(y_test, y_pred)\n",
    "print(cm)\n"
   ]
  },
  {
   "cell_type": "markdown",
   "id": "ee2c9aad",
   "metadata": {},
   "source": [
    "# SVM "
   ]
  },
  {
   "cell_type": "code",
   "execution_count": 56,
   "id": "8fdd6b60",
   "metadata": {},
   "outputs": [
    {
     "data": {
      "text/plain": [
       "SVC(C=1, gamma=1)"
      ]
     },
     "execution_count": 56,
     "metadata": {},
     "output_type": "execute_result"
    }
   ],
   "source": [
    "from sklearn.svm import SVC\n",
    "model = SVC(C=1, gamma=1)\n",
    "model.fit(X_train_stand,y_train)"
   ]
  },
  {
   "cell_type": "code",
   "execution_count": 57,
   "id": "e692b1bc",
   "metadata": {},
   "outputs": [
    {
     "name": "stdout",
     "output_type": "stream",
     "text": [
      "[1 0 0 1 0 1 1 0 0 0 0 0 0 0 0 0 0 0 0 1 1 0 0 0 1 0 1 0 0 0 0 1 0 0 1 0 0\n",
      " 0 1 1 0 0 0 0 0 0 1 1 0 1 1 0 0 0 1 0 0 1 1 0 1 0 0 1 0 0 0 0 0 1 0 1 0 0\n",
      " 0 0 0 0 0 0 0 0 0 1 0 0 0 0 0 0 0 0 1 0 0 0 0 1 0 0 0 0 0 0 0 1 0 1 0 0 0\n",
      " 0 0 1 0 0 0 0 0 0 0 0 1 0 0 1 0 0 0 0 0 0 1 0 1 1 0 0 0 0 0 0 0 0 1 0 0 1\n",
      " 0 0]\n"
     ]
    }
   ],
   "source": [
    "y_pred = model.predict(X_test_stand)\n",
    "print(y_pred)"
   ]
  },
  {
   "cell_type": "code",
   "execution_count": 58,
   "id": "bd6ef2c9",
   "metadata": {},
   "outputs": [
    {
     "name": "stdout",
     "output_type": "stream",
     "text": [
      "0.92\n"
     ]
    }
   ],
   "source": [
    "from sklearn.metrics import accuracy_score\n",
    "acc = accuracy_score(y_test, y_pred)\n",
    "print(acc)"
   ]
  },
  {
   "cell_type": "code",
   "execution_count": 59,
   "id": "bd8d7d04",
   "metadata": {},
   "outputs": [
    {
     "name": "stdout",
     "output_type": "stream",
     "text": [
      "[[105   3]\n",
      " [  9  33]]\n"
     ]
    }
   ],
   "source": [
    "from sklearn.metrics import confusion_matrix\n",
    "cm = confusion_matrix(y_test, y_pred)\n",
    "print(cm)\n"
   ]
  }
 ],
 "metadata": {
  "kernelspec": {
   "display_name": "Python 3",
   "language": "python",
   "name": "python3"
  },
  "language_info": {
   "codemirror_mode": {
    "name": "ipython",
    "version": 3
   },
   "file_extension": ".py",
   "mimetype": "text/x-python",
   "name": "python",
   "nbconvert_exporter": "python",
   "pygments_lexer": "ipython3",
   "version": "3.8.8"
  }
 },
 "nbformat": 4,
 "nbformat_minor": 5
}
